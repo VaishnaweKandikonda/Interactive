{
 "cells": [
  {
   "cell_type": "markdown",
   "metadata": {},
   "source": [
    "# CVE + MITRE Threat Intelligence - EDA Notebok\n",
    "\n",
    "This notebook performs data cleaning and exploratory data analysis (EDA) on the combined NVD CVE and MITRE ATT&CK dataset. The goal is to prepare a clean dataset for use in an interactive Streamlit dashboard.\n",
    "\n",
    "- CVE: Common Vulnerabilities and Exposures\n",
    "\n",
    "- MITRE: Originally an acronym, but now it's simply \"MITRE Corporation,\" a non-profit organization managing CVE and other cybersecurity initiatives.\n",
    "\n",
    "Both are important in cybersecurity—CVE tracks security vulnerabilities, while MITRE helps develop frameworks like ATTACK for threat analysis."
   ]
  },
  {
   "cell_type": "code",
   "execution_count": 19,
   "metadata": {},
   "outputs": [
    {
     "name": "stdout",
     "output_type": "stream",
     "text": [
      "Requirement already satisfied: pip in /Library/Frameworks/Python.framework/Versions/3.13/lib/python3.13/site-packages (25.1.1)\n",
      "Requirement already satisfied: pandas in /Library/Frameworks/Python.framework/Versions/3.13/lib/python3.13/site-packages (from -r requirements.txt (line 1)) (2.2.3)\n",
      "Requirement already satisfied: matplotlib in /Library/Frameworks/Python.framework/Versions/3.13/lib/python3.13/site-packages (from -r requirements.txt (line 2)) (3.10.1)\n",
      "Requirement already satisfied: seaborn in /Library/Frameworks/Python.framework/Versions/3.13/lib/python3.13/site-packages (from -r requirements.txt (line 3)) (0.13.2)\n",
      "Requirement already satisfied: streamlit in /Library/Frameworks/Python.framework/Versions/3.13/lib/python3.13/site-packages (from -r requirements.txt (line 4)) (1.45.0)\n",
      "Requirement already satisfied: plotly in /Library/Frameworks/Python.framework/Versions/3.13/lib/python3.13/site-packages (from -r requirements.txt (line 5)) (6.0.1)\n",
      "Requirement already satisfied: numpy>=1.26.0 in /Library/Frameworks/Python.framework/Versions/3.13/lib/python3.13/site-packages (from pandas->-r requirements.txt (line 1)) (2.2.5)\n",
      "Requirement already satisfied: python-dateutil>=2.8.2 in /Users/vaishnavikandikonda/Library/Python/3.13/lib/python/site-packages (from pandas->-r requirements.txt (line 1)) (2.9.0.post0)\n",
      "Requirement already satisfied: pytz>=2020.1 in /Library/Frameworks/Python.framework/Versions/3.13/lib/python3.13/site-packages (from pandas->-r requirements.txt (line 1)) (2025.2)\n",
      "Requirement already satisfied: tzdata>=2022.7 in /Library/Frameworks/Python.framework/Versions/3.13/lib/python3.13/site-packages (from pandas->-r requirements.txt (line 1)) (2025.2)\n",
      "Requirement already satisfied: contourpy>=1.0.1 in /Library/Frameworks/Python.framework/Versions/3.13/lib/python3.13/site-packages (from matplotlib->-r requirements.txt (line 2)) (1.3.2)\n",
      "Requirement already satisfied: cycler>=0.10 in /Library/Frameworks/Python.framework/Versions/3.13/lib/python3.13/site-packages (from matplotlib->-r requirements.txt (line 2)) (0.12.1)\n",
      "Requirement already satisfied: fonttools>=4.22.0 in /Library/Frameworks/Python.framework/Versions/3.13/lib/python3.13/site-packages (from matplotlib->-r requirements.txt (line 2)) (4.57.0)\n",
      "Requirement already satisfied: kiwisolver>=1.3.1 in /Library/Frameworks/Python.framework/Versions/3.13/lib/python3.13/site-packages (from matplotlib->-r requirements.txt (line 2)) (1.4.8)\n",
      "Requirement already satisfied: packaging>=20.0 in /Library/Frameworks/Python.framework/Versions/3.13/lib/python3.13/site-packages (from matplotlib->-r requirements.txt (line 2)) (24.2)\n",
      "Requirement already satisfied: pillow>=8 in /Library/Frameworks/Python.framework/Versions/3.13/lib/python3.13/site-packages (from matplotlib->-r requirements.txt (line 2)) (11.2.1)\n",
      "Requirement already satisfied: pyparsing>=2.3.1 in /Library/Frameworks/Python.framework/Versions/3.13/lib/python3.13/site-packages (from matplotlib->-r requirements.txt (line 2)) (3.2.3)\n",
      "Requirement already satisfied: altair<6,>=4.0 in /Library/Frameworks/Python.framework/Versions/3.13/lib/python3.13/site-packages (from streamlit->-r requirements.txt (line 4)) (5.5.0)\n",
      "Requirement already satisfied: blinker<2,>=1.5.0 in /Library/Frameworks/Python.framework/Versions/3.13/lib/python3.13/site-packages (from streamlit->-r requirements.txt (line 4)) (1.9.0)\n",
      "Requirement already satisfied: cachetools<6,>=4.0 in /Library/Frameworks/Python.framework/Versions/3.13/lib/python3.13/site-packages (from streamlit->-r requirements.txt (line 4)) (5.5.2)\n",
      "Requirement already satisfied: click<9,>=7.0 in /Library/Frameworks/Python.framework/Versions/3.13/lib/python3.13/site-packages (from streamlit->-r requirements.txt (line 4)) (8.1.8)\n",
      "Requirement already satisfied: protobuf<7,>=3.20 in /Library/Frameworks/Python.framework/Versions/3.13/lib/python3.13/site-packages (from streamlit->-r requirements.txt (line 4)) (6.30.2)\n",
      "Requirement already satisfied: pyarrow>=7.0 in /Library/Frameworks/Python.framework/Versions/3.13/lib/python3.13/site-packages (from streamlit->-r requirements.txt (line 4)) (20.0.0)\n",
      "Requirement already satisfied: requests<3,>=2.27 in /Library/Frameworks/Python.framework/Versions/3.13/lib/python3.13/site-packages (from streamlit->-r requirements.txt (line 4)) (2.32.3)\n",
      "Requirement already satisfied: tenacity<10,>=8.1.0 in /Library/Frameworks/Python.framework/Versions/3.13/lib/python3.13/site-packages (from streamlit->-r requirements.txt (line 4)) (9.1.2)\n",
      "Requirement already satisfied: toml<2,>=0.10.1 in /Library/Frameworks/Python.framework/Versions/3.13/lib/python3.13/site-packages (from streamlit->-r requirements.txt (line 4)) (0.10.2)\n",
      "Requirement already satisfied: typing-extensions<5,>=4.4.0 in /Library/Frameworks/Python.framework/Versions/3.13/lib/python3.13/site-packages (from streamlit->-r requirements.txt (line 4)) (4.13.2)\n",
      "Requirement already satisfied: gitpython!=3.1.19,<4,>=3.0.7 in /Library/Frameworks/Python.framework/Versions/3.13/lib/python3.13/site-packages (from streamlit->-r requirements.txt (line 4)) (3.1.44)\n",
      "Requirement already satisfied: pydeck<1,>=0.8.0b4 in /Library/Frameworks/Python.framework/Versions/3.13/lib/python3.13/site-packages (from streamlit->-r requirements.txt (line 4)) (0.9.1)\n",
      "Requirement already satisfied: tornado<7,>=6.0.3 in /Users/vaishnavikandikonda/Library/Python/3.13/lib/python/site-packages (from streamlit->-r requirements.txt (line 4)) (6.4.2)\n",
      "Requirement already satisfied: jinja2 in /Library/Frameworks/Python.framework/Versions/3.13/lib/python3.13/site-packages (from altair<6,>=4.0->streamlit->-r requirements.txt (line 4)) (3.1.6)\n",
      "Requirement already satisfied: jsonschema>=3.0 in /Library/Frameworks/Python.framework/Versions/3.13/lib/python3.13/site-packages (from altair<6,>=4.0->streamlit->-r requirements.txt (line 4)) (4.23.0)\n",
      "Requirement already satisfied: narwhals>=1.14.2 in /Library/Frameworks/Python.framework/Versions/3.13/lib/python3.13/site-packages (from altair<6,>=4.0->streamlit->-r requirements.txt (line 4)) (1.37.1)\n",
      "Requirement already satisfied: gitdb<5,>=4.0.1 in /Library/Frameworks/Python.framework/Versions/3.13/lib/python3.13/site-packages (from gitpython!=3.1.19,<4,>=3.0.7->streamlit->-r requirements.txt (line 4)) (4.0.12)\n",
      "Requirement already satisfied: smmap<6,>=3.0.1 in /Library/Frameworks/Python.framework/Versions/3.13/lib/python3.13/site-packages (from gitdb<5,>=4.0.1->gitpython!=3.1.19,<4,>=3.0.7->streamlit->-r requirements.txt (line 4)) (5.0.2)\n",
      "Requirement already satisfied: charset-normalizer<4,>=2 in /Library/Frameworks/Python.framework/Versions/3.13/lib/python3.13/site-packages (from requests<3,>=2.27->streamlit->-r requirements.txt (line 4)) (3.4.2)\n",
      "Requirement already satisfied: idna<4,>=2.5 in /Library/Frameworks/Python.framework/Versions/3.13/lib/python3.13/site-packages (from requests<3,>=2.27->streamlit->-r requirements.txt (line 4)) (3.10)\n",
      "Requirement already satisfied: urllib3<3,>=1.21.1 in /Library/Frameworks/Python.framework/Versions/3.13/lib/python3.13/site-packages (from requests<3,>=2.27->streamlit->-r requirements.txt (line 4)) (2.4.0)\n",
      "Requirement already satisfied: certifi>=2017.4.17 in /Library/Frameworks/Python.framework/Versions/3.13/lib/python3.13/site-packages (from requests<3,>=2.27->streamlit->-r requirements.txt (line 4)) (2025.4.26)\n",
      "Requirement already satisfied: MarkupSafe>=2.0 in /Library/Frameworks/Python.framework/Versions/3.13/lib/python3.13/site-packages (from jinja2->altair<6,>=4.0->streamlit->-r requirements.txt (line 4)) (3.0.2)\n",
      "Requirement already satisfied: attrs>=22.2.0 in /Library/Frameworks/Python.framework/Versions/3.13/lib/python3.13/site-packages (from jsonschema>=3.0->altair<6,>=4.0->streamlit->-r requirements.txt (line 4)) (25.3.0)\n",
      "Requirement already satisfied: jsonschema-specifications>=2023.03.6 in /Library/Frameworks/Python.framework/Versions/3.13/lib/python3.13/site-packages (from jsonschema>=3.0->altair<6,>=4.0->streamlit->-r requirements.txt (line 4)) (2025.4.1)\n",
      "Requirement already satisfied: referencing>=0.28.4 in /Library/Frameworks/Python.framework/Versions/3.13/lib/python3.13/site-packages (from jsonschema>=3.0->altair<6,>=4.0->streamlit->-r requirements.txt (line 4)) (0.36.2)\n",
      "Requirement already satisfied: rpds-py>=0.7.1 in /Library/Frameworks/Python.framework/Versions/3.13/lib/python3.13/site-packages (from jsonschema>=3.0->altair<6,>=4.0->streamlit->-r requirements.txt (line 4)) (0.24.0)\n",
      "Requirement already satisfied: six>=1.5 in /Users/vaishnavikandikonda/Library/Python/3.13/lib/python/site-packages (from python-dateutil>=2.8.2->pandas->-r requirements.txt (line 1)) (1.17.0)\n"
     ]
    }
   ],
   "source": [
    "!pip3 install --upgrade pip\n",
    "!pip3 install -r requirements.txt "
   ]
  },
  {
   "cell_type": "markdown",
   "metadata": {},
   "source": [
    "Purpose of the Code\n",
    "- Upgrading pip ensures that you avoid potential issues with outdated package management.\n",
    "- Installing dependencies (requirements.txt) allows your project to have the necessary packages to function correctly.\n",
    "\n",
    "Insights from the Code\n",
    "\n",
    "- The installation will include useful libraries like: \n",
    "    - pandas for data manipulation\n",
    "    - matplotlib & seaborn for visualization\n",
    "    - streamlit for creating interactive web apps \n",
    "    - plotly for interactive graphs."
   ]
  },
  {
   "cell_type": "code",
   "execution_count": 20,
   "metadata": {},
   "outputs": [],
   "source": [
    "import json\n",
    "import pandas as pd\n",
    "\n",
    "# Load CVE data from NVD JSON\n",
    "with open(\"nvdcve-1.1-2024.json\", \"r\", encoding=\"utf-8\") as file:\n",
    "    data = json.load(file)\n",
    "\n",
    "cve_items = data[\"CVE_Items\"]\n",
    "records = []\n",
    "\n",
    "for item in cve_items:\n",
    "    cve_id = item[\"cve\"][\"CVE_data_meta\"][\"ID\"]\n",
    "    published = item.get(\"publishedDate\", \"\")\n",
    "    description = item[\"cve\"][\"description\"][\"description_data\"][0][\"value\"]\n",
    "\n",
    "    impact = item.get(\"impact\", {})\n",
    "    score = None\n",
    "    severity = None\n",
    "    if \"baseMetricV3\" in impact:\n",
    "        score = impact[\"baseMetricV3\"][\"cvssV3\"][\"baseScore\"]\n",
    "        severity = impact[\"baseMetricV3\"][\"cvssV3\"][\"baseSeverity\"]\n",
    "    elif \"baseMetricV2\" in impact:\n",
    "        score = impact[\"baseMetricV2\"][\"cvssV2\"][\"baseScore\"]\n",
    "        severity = impact[\"baseMetricV2\"][\"severity\"]\n",
    "\n",
    "    cwe_data = item[\"cve\"][\"problemtype\"][\"problemtype_data\"]\n",
    "    cwe_id = \"N/A\"\n",
    "    if cwe_data and cwe_data[0][\"description\"]:\n",
    "        cwe_id = cwe_data[0][\"description\"][0][\"value\"]\n",
    "\n",
    "    records.append({\n",
    "        \"cve_id\": cve_id,\n",
    "        \"published_date\": published,\n",
    "        \"cvss_score\": score,\n",
    "        \"severity\": severity,\n",
    "        \"cwe_id\": cwe_id,\n",
    "        \"description\": description\n",
    "    })\n",
    "\n",
    "df_cve = pd.DataFrame(records)\n"
   ]
  },
  {
   "cell_type": "markdown",
   "metadata": {},
   "source": [
    "Purpose of the Code\n",
    "- Extracts and organizes CVE data from the National Vulnerability Database.\n",
    "- Saves security vulnerability details into a structured format for analysis.\n",
    "- Helps evaluate risks based on severity ratings and classification codes.\n",
    "\n",
    "Insights from the Code\n",
    "- Converts JSON data into a structured table for easy examination.\n",
    "- Assesses vulnerabilities using CVSS scores and severity levels.\n",
    "- Enables cybersecurity teams to categorize and prioritize threats."
   ]
  },
  {
   "cell_type": "code",
   "execution_count": 21,
   "metadata": {},
   "outputs": [],
   "source": [
    "# Load your manual attack-pattern.json\n",
    "with open(\"attack-pattern.json\", \"r\", encoding=\"utf-8\") as f:\n",
    "    attack_data = json.load(f)\n",
    "\n",
    "# Extract CWE & MITRE mappings\n",
    "records = []\n",
    "for obj in attack_data[\"objects\"]:\n",
    "    if obj.get(\"type\") == \"attack-pattern\" and \"external_references\" in obj:\n",
    "        technique_id = next((ref[\"external_id\"] for ref in obj[\"external_references\"] if ref[\"source_name\"] == \"mitre-attack\"), None)\n",
    "        cwe_ids = [ref[\"external_id\"] for ref in obj[\"external_references\"] if ref[\"source_name\"] == \"cwe\"]\n",
    "        tactic = \", \".join(sorted(set(phase[\"phase_name\"] for phase in obj.get(\"kill_chain_phases\", []))))\n",
    "        for cwe in cwe_ids:\n",
    "            records.append({\n",
    "                \"cwe_id\": cwe,\n",
    "                \"mitre_technique_id\": technique_id,\n",
    "                \"mitre_tactic\": tactic\n",
    "            })\n",
    "            \n",
    "# Create DataFrame of mappings\n",
    "df_mitre = pd.DataFrame(records)"
   ]
  },
  {
   "cell_type": "markdown",
   "metadata": {},
   "source": [
    "Purpose of the Code\n",
    "- Loads CVE data from a CSV file and attack-pattern mappings from a JSON file.\n",
    "- Extracts CWE-to-MITRE ATTACK mappings for security analysis.\n",
    "- Merges enriched data to provide a more comprehensive vulnerability dataset.\n",
    "\n",
    "Insights from the Code\n",
    "- Connects CVE vulnerabilities to MITRE techniques and tactics.\n",
    "- Enables threat intelligence analysis with structured CWE mappings.\n",
    "- Saves an enriched dataset for further cybersecurity assessments."
   ]
  },
  {
   "cell_type": "code",
   "execution_count": 22,
   "metadata": {},
   "outputs": [
    {
     "data": {
      "text/html": [
       "<div>\n",
       "<style scoped>\n",
       "    .dataframe tbody tr th:only-of-type {\n",
       "        vertical-align: middle;\n",
       "    }\n",
       "\n",
       "    .dataframe tbody tr th {\n",
       "        vertical-align: top;\n",
       "    }\n",
       "\n",
       "    .dataframe thead th {\n",
       "        text-align: right;\n",
       "    }\n",
       "</style>\n",
       "<table border=\"1\" class=\"dataframe\">\n",
       "  <thead>\n",
       "    <tr style=\"text-align: right;\">\n",
       "      <th></th>\n",
       "      <th>cve_id</th>\n",
       "      <th>published_date</th>\n",
       "      <th>cvss_score</th>\n",
       "      <th>severity</th>\n",
       "      <th>cwe_id</th>\n",
       "      <th>description</th>\n",
       "    </tr>\n",
       "  </thead>\n",
       "  <tbody>\n",
       "    <tr>\n",
       "      <th>0</th>\n",
       "      <td>CVE-2024-0001</td>\n",
       "      <td>2024-09-23T18:15Z</td>\n",
       "      <td>9.8</td>\n",
       "      <td>CRITICAL</td>\n",
       "      <td>CWE-1188</td>\n",
       "      <td>A condition exists in FlashArray Purity whereb...</td>\n",
       "    </tr>\n",
       "    <tr>\n",
       "      <th>1</th>\n",
       "      <td>CVE-2024-0002</td>\n",
       "      <td>2024-09-23T18:15Z</td>\n",
       "      <td>9.8</td>\n",
       "      <td>CRITICAL</td>\n",
       "      <td>NVD-CWE-noinfo</td>\n",
       "      <td>A condition exists in FlashArray Purity whereb...</td>\n",
       "    </tr>\n",
       "    <tr>\n",
       "      <th>2</th>\n",
       "      <td>CVE-2024-0003</td>\n",
       "      <td>2024-09-23T18:15Z</td>\n",
       "      <td>7.2</td>\n",
       "      <td>HIGH</td>\n",
       "      <td>NVD-CWE-noinfo</td>\n",
       "      <td>A condition exists in FlashArray Purity whereb...</td>\n",
       "    </tr>\n",
       "    <tr>\n",
       "      <th>3</th>\n",
       "      <td>CVE-2024-0004</td>\n",
       "      <td>2024-09-23T18:15Z</td>\n",
       "      <td>7.2</td>\n",
       "      <td>HIGH</td>\n",
       "      <td>CWE-94</td>\n",
       "      <td>A condition exists in FlashArray Purity whereb...</td>\n",
       "    </tr>\n",
       "    <tr>\n",
       "      <th>4</th>\n",
       "      <td>CVE-2024-0005</td>\n",
       "      <td>2024-09-23T18:15Z</td>\n",
       "      <td>8.8</td>\n",
       "      <td>HIGH</td>\n",
       "      <td>CWE-77</td>\n",
       "      <td>A condition exists in FlashArray and FlashBlad...</td>\n",
       "    </tr>\n",
       "  </tbody>\n",
       "</table>\n",
       "</div>"
      ],
      "text/plain": [
       "          cve_id     published_date  cvss_score  severity          cwe_id  \\\n",
       "0  CVE-2024-0001  2024-09-23T18:15Z         9.8  CRITICAL        CWE-1188   \n",
       "1  CVE-2024-0002  2024-09-23T18:15Z         9.8  CRITICAL  NVD-CWE-noinfo   \n",
       "2  CVE-2024-0003  2024-09-23T18:15Z         7.2      HIGH  NVD-CWE-noinfo   \n",
       "3  CVE-2024-0004  2024-09-23T18:15Z         7.2      HIGH          CWE-94   \n",
       "4  CVE-2024-0005  2024-09-23T18:15Z         8.8      HIGH          CWE-77   \n",
       "\n",
       "                                         description  \n",
       "0  A condition exists in FlashArray Purity whereb...  \n",
       "1  A condition exists in FlashArray Purity whereb...  \n",
       "2  A condition exists in FlashArray Purity whereb...  \n",
       "3  A condition exists in FlashArray Purity whereb...  \n",
       "4  A condition exists in FlashArray and FlashBlad...  "
      ]
     },
     "execution_count": 22,
     "metadata": {},
     "output_type": "execute_result"
    }
   ],
   "source": [
    "df_cve.head()"
   ]
  },
  {
   "cell_type": "code",
   "execution_count": 23,
   "metadata": {},
   "outputs": [
    {
     "data": {
      "text/html": [
       "<div>\n",
       "<style scoped>\n",
       "    .dataframe tbody tr th:only-of-type {\n",
       "        vertical-align: middle;\n",
       "    }\n",
       "\n",
       "    .dataframe tbody tr th {\n",
       "        vertical-align: top;\n",
       "    }\n",
       "\n",
       "    .dataframe thead th {\n",
       "        text-align: right;\n",
       "    }\n",
       "</style>\n",
       "<table border=\"1\" class=\"dataframe\">\n",
       "  <thead>\n",
       "    <tr style=\"text-align: right;\">\n",
       "      <th></th>\n",
       "      <th>cwe_id</th>\n",
       "      <th>mitre_technique_id</th>\n",
       "      <th>mitre_tactic</th>\n",
       "    </tr>\n",
       "  </thead>\n",
       "  <tbody>\n",
       "    <tr>\n",
       "      <th>0</th>\n",
       "      <td>CWE-79</td>\n",
       "      <td>T1059</td>\n",
       "      <td>execution</td>\n",
       "    </tr>\n",
       "    <tr>\n",
       "      <th>1</th>\n",
       "      <td>CWE-119</td>\n",
       "      <td>T1068</td>\n",
       "      <td>privilege-escalation</td>\n",
       "    </tr>\n",
       "    <tr>\n",
       "      <th>2</th>\n",
       "      <td>CWE-20</td>\n",
       "      <td>T1203</td>\n",
       "      <td>initial-access</td>\n",
       "    </tr>\n",
       "    <tr>\n",
       "      <th>3</th>\n",
       "      <td>CWE-200</td>\n",
       "      <td>T1082</td>\n",
       "      <td>discovery</td>\n",
       "    </tr>\n",
       "    <tr>\n",
       "      <th>4</th>\n",
       "      <td>CWE-352</td>\n",
       "      <td>T1078</td>\n",
       "      <td>credential-access</td>\n",
       "    </tr>\n",
       "  </tbody>\n",
       "</table>\n",
       "</div>"
      ],
      "text/plain": [
       "    cwe_id mitre_technique_id          mitre_tactic\n",
       "0   CWE-79              T1059             execution\n",
       "1  CWE-119              T1068  privilege-escalation\n",
       "2   CWE-20              T1203        initial-access\n",
       "3  CWE-200              T1082             discovery\n",
       "4  CWE-352              T1078     credential-access"
      ]
     },
     "execution_count": 23,
     "metadata": {},
     "output_type": "execute_result"
    }
   ],
   "source": [
    "df_mitre.head()"
   ]
  },
  {
   "cell_type": "markdown",
   "metadata": {},
   "source": [
    "## Data Cleaning"
   ]
  },
  {
   "cell_type": "code",
   "execution_count": 24,
   "metadata": {},
   "outputs": [
    {
     "name": "stdout",
     "output_type": "stream",
     "text": [
      "CVE Data Shape: (37818, 6)\n",
      "Mitre Data Shape: (10, 3)\n"
     ]
    }
   ],
   "source": [
    "import pandas as pd\n",
    "import numpy as np\n",
    "\n",
    "\n",
    "print(\"CVE Data Shape:\", df_cve.shape)\n",
    "print(\"Mitre Data Shape:\", df_mitre.shape)\n"
   ]
  },
  {
   "cell_type": "code",
   "execution_count": 25,
   "metadata": {},
   "outputs": [
    {
     "name": "stdout",
     "output_type": "stream",
     "text": [
      "CVE Data Info:\n",
      "<class 'pandas.core.frame.DataFrame'>\n",
      "RangeIndex: 37818 entries, 0 to 37817\n",
      "Data columns (total 6 columns):\n",
      " #   Column          Non-Null Count  Dtype  \n",
      "---  ------          --------------  -----  \n",
      " 0   cve_id          37818 non-null  object \n",
      " 1   published_date  37818 non-null  object \n",
      " 2   cvss_score      20512 non-null  float64\n",
      " 3   severity        20512 non-null  object \n",
      " 4   cwe_id          37818 non-null  object \n",
      " 5   description     37818 non-null  object \n",
      "dtypes: float64(1), object(5)\n",
      "memory usage: 1.7+ MB\n",
      "None\n",
      "\n",
      " Mitre Data Info:\n",
      "<class 'pandas.core.frame.DataFrame'>\n",
      "RangeIndex: 10 entries, 0 to 9\n",
      "Data columns (total 3 columns):\n",
      " #   Column              Non-Null Count  Dtype \n",
      "---  ------              --------------  ----- \n",
      " 0   cwe_id              10 non-null     object\n",
      " 1   mitre_technique_id  10 non-null     object\n",
      " 2   mitre_tactic        10 non-null     object\n",
      "dtypes: object(3)\n",
      "memory usage: 372.0+ bytes\n",
      "None\n"
     ]
    }
   ],
   "source": [
    "print(\"CVE Data Info:\")\n",
    "print(df_cve.info())\n",
    "\n",
    "print(\"\\n Mitre Data Info:\")\n",
    "print(df_mitre.info())"
   ]
  },
  {
   "cell_type": "code",
   "execution_count": 26,
   "metadata": {},
   "outputs": [
    {
     "name": "stdout",
     "output_type": "stream",
     "text": [
      "CVE Data Missing Values:\n",
      "                Missing Values in CVE Data\n",
      "cve_id                                   0\n",
      "published_date                           0\n",
      "cvss_score                           17306\n",
      "severity                             17306\n",
      "cwe_id                                   0\n",
      "description                              0\n",
      "\n",
      "Enriched Data Missing Values:\n",
      "                    Missing Values in Enriched Data\n",
      "cwe_id                                            0\n",
      "mitre_technique_id                                0\n",
      "mitre_tactic                                      0\n"
     ]
    }
   ],
   "source": [
    "import pandas as pd\n",
    "\n",
    "# Check missing values \n",
    "missing_df_cve = pd.DataFrame(df_cve.isnull().sum(), columns=[\"Missing Values in CVE Data\"])\n",
    "missing_df_mitre = pd.DataFrame(df_mitre.isnull().sum(), columns=[\"Missing Values in Enriched Data\"])\n",
    "\n",
    "# Display tables\n",
    "print(\"CVE Data Missing Values:\")\n",
    "print(missing_df_cve)\n",
    "\n",
    "print(\"\\nEnriched Data Missing Values:\")\n",
    "print(missing_df_mitre)\n"
   ]
  },
  {
   "cell_type": "code",
   "execution_count": 27,
   "metadata": {},
   "outputs": [
    {
     "name": "stdout",
     "output_type": "stream",
     "text": [
      "Data cleansing completed and saved!\n"
     ]
    },
    {
     "name": "stderr",
     "output_type": "stream",
     "text": [
      "/var/folders/vk/hr1shnhn29bd_67yn_dv6_3c0000gn/T/ipykernel_8967/1279703038.py:13: FutureWarning: A value is trying to be set on a copy of a DataFrame or Series through chained assignment using an inplace method.\n",
      "The behavior will change in pandas 3.0. This inplace method will never work because the intermediate object on which we are setting values always behaves as a copy.\n",
      "\n",
      "For example, when doing 'df[col].method(value, inplace=True)', try using 'df.method({col: value}, inplace=True)' or df[col] = df[col].method(value) instead, to perform the operation inplace on the original object.\n",
      "\n",
      "\n",
      "  df[col].fillna(\"Unknown\", inplace=True)  # Fill missing text\n",
      "/var/folders/vk/hr1shnhn29bd_67yn_dv6_3c0000gn/T/ipykernel_8967/1279703038.py:15: FutureWarning: A value is trying to be set on a copy of a DataFrame or Series through chained assignment using an inplace method.\n",
      "The behavior will change in pandas 3.0. This inplace method will never work because the intermediate object on which we are setting values always behaves as a copy.\n",
      "\n",
      "For example, when doing 'df[col].method(value, inplace=True)', try using 'df.method({col: value}, inplace=True)' or df[col] = df[col].method(value) instead, to perform the operation inplace on the original object.\n",
      "\n",
      "\n",
      "  df[col].fillna(0, inplace=True)  # Fill missing numbers with 0\n",
      "/var/folders/vk/hr1shnhn29bd_67yn_dv6_3c0000gn/T/ipykernel_8967/1279703038.py:13: FutureWarning: A value is trying to be set on a copy of a DataFrame or Series through chained assignment using an inplace method.\n",
      "The behavior will change in pandas 3.0. This inplace method will never work because the intermediate object on which we are setting values always behaves as a copy.\n",
      "\n",
      "For example, when doing 'df[col].method(value, inplace=True)', try using 'df.method({col: value}, inplace=True)' or df[col] = df[col].method(value) instead, to perform the operation inplace on the original object.\n",
      "\n",
      "\n",
      "  df[col].fillna(\"Unknown\", inplace=True)  # Fill missing text\n"
     ]
    }
   ],
   "source": [
    "import pandas as pd\n",
    "import numpy as np\n",
    "\n",
    "# Dynamic data cleansing\n",
    "def cleanse_data(df):\n",
    "   # Convert numeric columns\n",
    "    for col in df.select_dtypes(include=[\"int64\", \"float64\"]).columns:\n",
    "        df[col] = pd.to_numeric(df[col], errors=\"coerce\")\n",
    "    \n",
    "    # Handle missing values dynamically\n",
    "    for col in df.columns:\n",
    "        if df[col].dtype == \"object\":\n",
    "            df[col].fillna(\"Unknown\", inplace=True)  # Fill missing text\n",
    "        elif df[col].dtype in [\"int64\", \"float64\"]:\n",
    "            df[col].fillna(0, inplace=True)  # Fill missing numbers with 0\n",
    "\n",
    "    # Normalize text data\n",
    "    for col in df.select_dtypes(include=[\"string\"]).columns:\n",
    "        df[col] = df[col].str.strip().str.lower()\n",
    "\n",
    "    # Remove duplicates\n",
    "    df.drop_duplicates(inplace=True)\n",
    "\n",
    "    return df\n",
    "\n",
    "# Apply data cleansing functions\n",
    "df_cve = cleanse_data(df_cve)\n",
    "df_mitre= cleanse_data(df_mitre)\n",
    "\n",
    "df_cve[\"published_date\"] = pd.to_datetime(df_cve[\"published_date\"], errors=\"coerce\")\n",
    "\n",
    "print(\"Data cleansing completed and saved!\")"
   ]
  },
  {
   "cell_type": "code",
   "execution_count": 28,
   "metadata": {},
   "outputs": [
    {
     "name": "stdout",
     "output_type": "stream",
     "text": [
      "Final file saved as CVE_MITRE_Mappings.csv\n"
     ]
    }
   ],
   "source": [
    "# Merge with CVE data\n",
    "df_merged = pd.merge(df_cve, df_mitre, on=\"cwe_id\", how=\"left\")\n",
    "df_merged['year'] = df_merged['published_date'].dt.year\n",
    "\n",
    "# Save final result after cleaning and merging\n",
    "df_merged.to_csv(\"CVE_MITRE_Mappings.csv\", index=False)\n",
    "print(\"Final file saved as CVE_MITRE_Mappings.csv\")"
   ]
  },
  {
   "cell_type": "code",
   "execution_count": 29,
   "metadata": {},
   "outputs": [
    {
     "name": "stdout",
     "output_type": "stream",
     "text": [
      "Data types and missing values in CVE Data after cleaning:\n",
      "\n",
      "      Column Name            Data Type  Missing Values\n",
      "0          cve_id               object               0\n",
      "1  published_date  datetime64[ns, UTC]               0\n",
      "2      cvss_score              float64               0\n",
      "3        severity               object               0\n",
      "4          cwe_id               object               0\n",
      "5     description               object               0\n",
      "\n",
      "Data types and missing values in Enriched Data after cleaning:\n",
      "\n",
      "          Column Name Data Type  Missing Values\n",
      "0              cwe_id    object               0\n",
      "1  mitre_technique_id    object               0\n",
      "2        mitre_tactic    object               0\n"
     ]
    }
   ],
   "source": [
    "# Create a verification table for CVE dataset\n",
    "verification_df = pd.DataFrame({\n",
    "    \"Data Type\": df_cve.dtypes,\n",
    "    \"Missing Values\": df_cve.isnull().sum()\n",
    "}).reset_index()\n",
    "verification_df.columns = [\"Column Name\", \"Data Type\", \"Missing Values\"]\n",
    "\n",
    "print(\"Data types and missing values in CVE Data after cleaning:\\n\")\n",
    "print(verification_df)\n",
    "\n",
    "# Create a verification table for Enriched dataset\n",
    "verification_df_enriched = pd.DataFrame({\n",
    "    \"Data Type\": df_mitre.dtypes,\n",
    "    \"Missing Values\": df_mitre.isnull().sum()\n",
    "}).reset_index()\n",
    "verification_df_enriched.columns = [\"Column Name\", \"Data Type\", \"Missing Values\"]\n",
    "\n",
    "print(\"\\nData types and missing values in Enriched Data after cleaning:\\n\")\n",
    "print(verification_df_enriched)\n"
   ]
  },
  {
   "cell_type": "markdown",
   "metadata": {},
   "source": [
    "Purpose of the Code\n",
    "- Checks for null values and provides an overview of the dataset.\n",
    "- Converts date columns into structured time formats for analysis.\n",
    "- Creates visualizations to explore data distributions and relationships.\n",
    "\n",
    "Insights from the Code\n",
    "- Identifies missing data using a heatmap for better data quality assessment.\n",
    "- Shows CVE severity distribution and common CWE classifications.\n"
   ]
  },
  {
   "cell_type": "markdown",
   "metadata": {},
   "source": [
    "## Exploratory Data Analysis"
   ]
  },
  {
   "cell_type": "code",
   "execution_count": 30,
   "metadata": {},
   "outputs": [
    {
     "name": "stdout",
     "output_type": "stream",
     "text": [
      "Merged Data Summary:\n",
      "<class 'pandas.core.frame.DataFrame'>\n",
      "RangeIndex: 37818 entries, 0 to 37817\n",
      "Data columns (total 9 columns):\n",
      " #   Column              Non-Null Count  Dtype              \n",
      "---  ------              --------------  -----              \n",
      " 0   cve_id              37818 non-null  object             \n",
      " 1   published_date      37818 non-null  datetime64[ns, UTC]\n",
      " 2   cvss_score          37818 non-null  float64            \n",
      " 3   severity            37818 non-null  object             \n",
      " 4   cwe_id              37818 non-null  object             \n",
      " 5   description         37818 non-null  object             \n",
      " 6   mitre_technique_id  5605 non-null   object             \n",
      " 7   mitre_tactic        5605 non-null   object             \n",
      " 8   year                37818 non-null  int32              \n",
      "dtypes: datetime64[ns, UTC](1), float64(1), int32(1), object(6)\n",
      "memory usage: 2.5+ MB\n",
      "None\n",
      "               cve_id                       published_date    cvss_score  \\\n",
      "count           37818                                37818  37818.000000   \n",
      "unique          37818                                  NaN           NaN   \n",
      "top     CVE-2024-0001                                  NaN           NaN   \n",
      "freq                1                                  NaN           NaN   \n",
      "mean              NaN  2024-08-13 08:50:25.694113536+00:00      3.738141   \n",
      "min               NaN            2023-11-28 00:15:00+00:00      0.000000   \n",
      "25%               NaN            2024-05-06 16:15:00+00:00      0.000000   \n",
      "50%               NaN            2024-08-13 18:15:00+00:00      4.800000   \n",
      "75%               NaN            2024-11-15 18:15:00+00:00      7.100000   \n",
      "max               NaN            2025-05-03 16:15:00+00:00     10.000000   \n",
      "std               NaN                                  NaN      3.657166   \n",
      "\n",
      "       severity cwe_id                                        description  \\\n",
      "count     37818  37818                                              37818   \n",
      "unique        5    283                                              35591   \n",
      "top     Unknown    N/A  Rejected reason: This CVE ID has been rejected...   \n",
      "freq      17306  17367                                                241   \n",
      "mean        NaN    NaN                                                NaN   \n",
      "min         NaN    NaN                                                NaN   \n",
      "25%         NaN    NaN                                                NaN   \n",
      "50%         NaN    NaN                                                NaN   \n",
      "75%         NaN    NaN                                                NaN   \n",
      "max         NaN    NaN                                                NaN   \n",
      "std         NaN    NaN                                                NaN   \n",
      "\n",
      "       mitre_technique_id mitre_tactic          year  \n",
      "count                5605         5605  37818.000000  \n",
      "unique                  9            8           NaN  \n",
      "top                 T1059    execution           NaN  \n",
      "freq                 4335         4335           NaN  \n",
      "mean                  NaN          NaN   2024.124147  \n",
      "min                   NaN          NaN   2023.000000  \n",
      "25%                   NaN          NaN   2024.000000  \n",
      "50%                   NaN          NaN   2024.000000  \n",
      "75%                   NaN          NaN   2024.000000  \n",
      "max                   NaN          NaN   2025.000000  \n",
      "std                   NaN          NaN      0.329914  \n"
     ]
    }
   ],
   "source": [
    "print(\"Merged Data Summary:\")\n",
    "print(df_merged.info())\n",
    "print(df_merged.describe(include='all'))"
   ]
  },
  {
   "cell_type": "code",
   "execution_count": 31,
   "metadata": {},
   "outputs": [
    {
     "name": "stdout",
     "output_type": "stream",
     "text": [
      "Categorical Summary:\n",
      "                     count unique  \\\n",
      "cve_id              37818  37818   \n",
      "severity            37818      5   \n",
      "cwe_id              37818    283   \n",
      "description         37818  35591   \n",
      "mitre_technique_id   5605      9   \n",
      "mitre_tactic         5605      8   \n",
      "\n",
      "                                                                  top   freq  \n",
      "cve_id                                                  CVE-2024-0001      1  \n",
      "severity                                                      Unknown  17306  \n",
      "cwe_id                                                            N/A  17367  \n",
      "description         Rejected reason: This CVE ID has been rejected...    241  \n",
      "mitre_technique_id                                              T1059   4335  \n",
      "mitre_tactic                                                execution   4335  \n"
     ]
    }
   ],
   "source": [
    "categorical_summary = df_merged.select_dtypes(include=[\"object\"]).describe().transpose()\n",
    "print(\"Categorical Summary:\\n\", categorical_summary)\n"
   ]
  },
  {
   "cell_type": "code",
   "execution_count": 32,
   "metadata": {},
   "outputs": [
    {
     "name": "stdout",
     "output_type": "stream",
     "text": [
      "Numerical Summary:\n",
      "               count      mean       std  min  25%  50%  75%   max\n",
      "cvss_score  37818.0  3.738141  3.657166  0.0  0.0  4.8  7.1  10.0\n"
     ]
    }
   ],
   "source": [
    "numerical_summary = df_merged.select_dtypes(include=[\"int64\", \"float64\"]).describe().transpose()\n",
    "print(\"Numerical Summary:\\n\", numerical_summary)"
   ]
  },
  {
   "cell_type": "code",
   "execution_count": 33,
   "metadata": {},
   "outputs": [
    {
     "name": "stdout",
     "output_type": "stream",
     "text": [
      "Correlation matrix for CVE Data:\n",
      "             cvss_score     year\n",
      "cvss_score     1.00000 -0.12771\n",
      "year          -0.12771  1.00000\n"
     ]
    }
   ],
   "source": [
    "# CVE Data Correlation Matrix\n",
    "numeric_columns_df = df_merged.select_dtypes(include=[\"number\"])\n",
    "correlation_matrix_df = numeric_columns_df.corr()\n",
    "\n",
    "print(\"Correlation matrix for CVE Data:\\n\", correlation_matrix_df)"
   ]
  },
  {
   "cell_type": "markdown",
   "metadata": {},
   "source": [
    "# Visulisations"
   ]
  },
  {
   "cell_type": "markdown",
   "metadata": {},
   "source": [
    "### 1. CVEs Reported Over Time"
   ]
  },
  {
   "cell_type": "code",
   "execution_count": 34,
   "metadata": {},
   "outputs": [
    {
     "data": {
      "image/png": "[encoded data removed]",
      "text/plain": [
       "<Figure size 1000x500 with 1 Axes>"
      ]
     },
     "metadata": {},
     "output_type": "display_data"
    }
   ],
   "source": [
    "import matplotlib.pyplot as plt\n",
    "import seaborn as sns\n",
    "\n",
    "\n",
    "plt.figure(figsize=(10,5))\n",
    "df_merged['year'].value_counts().sort_index().plot(kind='bar', color='skyblue')\n",
    "plt.title(\"CVEs Reported per Year\")\n",
    "plt.xlabel(\"Year\")\n",
    "plt.ylabel(\"Number of CVEs\")\n",
    "plt.grid(True)\n",
    "plt.tight_layout()\n",
    "plt.show()"
   ]
  },
  {
   "cell_type": "markdown",
   "metadata": {},
   "source": [
    "Purpose of the Code\n",
    "- Generates a bar chart displaying the number of CVEs reported per year.\n",
    "- Uses Matplotlib for visualization and enhances readability with formatting.\n",
    "- Helps identify trends in vulnerability disclosures over time.\n",
    "\n",
    "Insights from the Code\n",
    "- Shows the distribution of CVEs across different years for trend analysis.\n",
    "- Allows cybersecurity teams to examine patterns in vulnerability reporting.\n",
    "- Provides a clear visual representation of the dataset's temporal aspects."
   ]
  },
  {
   "cell_type": "markdown",
   "metadata": {},
   "source": [
    "### 2 CVSS Score Distribution"
   ]
  },
  {
   "cell_type": "code",
   "execution_count": 35,
   "metadata": {},
   "outputs": [
    {
     "data": {
      "image/png": "[encoded data removed]",
      "text/plain": [
       "<Figure size 800x500 with 1 Axes>"
      ]
     },
     "metadata": {},
     "output_type": "display_data"
    }
   ],
   "source": [
    "plt.figure(figsize=(8,5))\n",
    "sns.histplot(df_merged['cvss_score'], bins=20, kde=True, color='salmon')\n",
    "plt.title(\"CVSS Score Distribution\")\n",
    "plt.xlabel(\"CVSS Score\")\n",
    "plt.ylabel(\"Count\")\n",
    "plt.grid(True)\n",
    "plt.tight_layout()\n",
    "plt.show()"
   ]
  },
  {
   "cell_type": "markdown",
   "metadata": {},
   "source": [
    "Purpose of the Code\n",
    "- Creates a histogram to visualize the distribution of CVSS scores.\n",
    "- Uses Seaborn's histplot with Kernel Density Estimation (KDE) for smooth trend analysis.\n",
    "- Enhances readability with labels, grid, and tight layout adjustments.\n",
    "\n",
    "Insights from the Code\n",
    "- Highlights the frequency of different CVSS scores in the dataset.\n",
    "- Helps assess the severity spread of vulnerabilities.\n",
    "- Provides a clear view of how CVE scores are distributed."
   ]
  },
  {
   "cell_type": "markdown",
   "metadata": {},
   "source": [
    "### 3 Severity Breakdown"
   ]
  },
  {
   "cell_type": "code",
   "execution_count": 36,
   "metadata": {},
   "outputs": [
    {
     "data": {
      "image/png": "[encoded data removed]",
      "text/plain": [
       "<Figure size 600x400 with 1 Axes>"
      ]
     },
     "metadata": {},
     "output_type": "display_data"
    }
   ],
   "source": [
    "plt.figure(figsize=(6,4))\n",
    "df_merged['severity'].value_counts().plot(kind='bar', color='orange')\n",
    "plt.title(\"CVE Severity Levels\")\n",
    "plt.ylabel(\"Number of CVEs\")\n",
    "plt.xlabel(\"Severity\")\n",
    "plt.grid(True)\n",
    "plt.tight_layout()\n",
    "plt.show()"
   ]
  },
  {
   "cell_type": "markdown",
   "metadata": {},
   "source": [
    "Purpose of the Code\n",
    "- Creates a bar chart to display the distribution of CVE severity levels.\n",
    "- Uses pandas plotting functionality to visualize vulnerability severity.\n",
    "- Enhances readability with labels, gridlines, and tight layout adjustments.\n",
    "\n",
    "Insights from the Code\n",
    "- Shows how vulnerabilities are categorized by severity.\n",
    "- Helps assess risk levels based on reported CVEs.\n",
    "- Provides a quick overview of security threats in the dataset."
   ]
  },
  {
   "cell_type": "markdown",
   "metadata": {},
   "source": [
    "### 4 Top 10 CWE Categories"
   ]
  },
  {
   "cell_type": "code",
   "execution_count": 37,
   "metadata": {},
   "outputs": [
    {
     "data": {
      "image/png": "[encoded data removed]",
      "text/plain": [
       "<Figure size 1000x500 with 1 Axes>"
      ]
     },
     "metadata": {},
     "output_type": "display_data"
    }
   ],
   "source": [
    "top_cwes = df_merged['cwe_id'].value_counts().nlargest(10)\n",
    "plt.figure(figsize=(10,5))\n",
    "top_cwes.plot(kind='barh', color='teal')\n",
    "plt.title(\"Top 10 CWE Categories\")\n",
    "plt.xlabel(\"Count\")\n",
    "plt.gca().invert_yaxis()\n",
    "plt.tight_layout()\n",
    "plt.show()"
   ]
  },
  {
   "cell_type": "markdown",
   "metadata": {},
   "source": [
    "Purpose of the Code\n",
    "- Identifies the top 10 most common CWE categories in the dataset.\n",
    "- Creates a horizontal bar chart for better readability and comparison.\n",
    "- Enhances visualization with proper labels, layout adjustments, and axis inversion.\n",
    "\n",
    "Insights from the Code\n",
    "- Highlights the most frequently occurring CWE vulnerabilities.\n",
    "- Helps prioritize security threats based on reported CWE patterns.\n",
    "- Provides a structured view of common weakness categories for analysis."
   ]
  },
  {
   "cell_type": "markdown",
   "metadata": {},
   "source": [
    "### 5. How Many CVEs Are Mapped to MITRE ATT&CK?"
   ]
  },
  {
   "cell_type": "code",
   "execution_count": 38,
   "metadata": {},
   "outputs": [
    {
     "name": "stdout",
     "output_type": "stream",
     "text": [
      "14.82% of CVEs have a mapped MITRE technique.\n"
     ]
    }
   ],
   "source": [
    "mapped_ratio = df_merged['mitre_technique_id'].notnull().mean() * 100\n",
    "print(f\"{mapped_ratio:.2f}% of CVEs have a mapped MITRE technique.\")"
   ]
  },
  {
   "cell_type": "markdown",
   "metadata": {},
   "source": [
    "Purpose of the Code\n",
    "- Calculates the percentage of CVEs that have a mapped MITRE ATT&CK technique.\n",
    "- Uses .notnull().mean() to determine the proportion of mapped entries.\n",
    "- Prints the final percentage in a user-friendly formatted output.\n",
    "\n",
    "Insights from the Code\n",
    "- Provides a quick assessment of how many CVEs are linked to known attack techniques.\n",
    "- Helps gauge the coverage of MITRE ATT&CK mappings in the dataset.\n",
    "- Supports cybersecurity analysis by quantifying intelligence integration."
   ]
  }
 ],
 "metadata": {
  "kernelspec": {
   "display_name": "Python 3",
   "language": "python",
   "name": "python3"
  },
  "language_info": {
   "codemirror_mode": {
    "name": "ipython",
    "version": 3
   },
   "file_extension": ".py",
   "mimetype": "text/x-python",
   "name": "python",
   "nbconvert_exporter": "python",
   "pygments_lexer": "ipython3",
   "version": "3.13.3"
  }
 },
 "nbformat": 4,
 "nbformat_minor": 2
}
